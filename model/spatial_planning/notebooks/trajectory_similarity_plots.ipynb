{
 "cells": [
  {
   "cell_type": "code",
   "execution_count": 173,
   "id": "virgin-incident",
   "metadata": {},
   "outputs": [],
   "source": [
    "# import pickle\n",
    "from src.human_exp_database import HumanExperimentResults\n",
    "from src.consts import *\n",
    "import numpy as np\n",
    "import sys\n",
    "import matplotlib.pyplot as plt\n",
    "import matplotlib\n",
    "import pickle\n",
    "from matplotlib import cm\n",
    "import matplotlib.pyplot as plt\n",
    "from matplotlib.dates import date2num\n",
    "import datetime\n",
    "import copy\n",
    "import math\n",
    "from src.utils import *\n",
    "from collections import defaultdict\n",
    "%matplotlib inline"
   ]
  },
  {
   "cell_type": "code",
   "execution_count": 174,
   "id": "golden-memorabilia",
   "metadata": {},
   "outputs": [],
   "source": [
    "with open(\"../policy.pkl\", 'rb') as handle:\n",
    "    policy = pickle.load(handle)\n"
   ]
  },
  {
   "cell_type": "code",
   "execution_count": 188,
   "id": "adequate-affiliate",
   "metadata": {},
   "outputs": [
    {
     "name": "stdout",
     "output_type": "stream",
     "text": [
      "6\n",
      "3\n",
      "2\n",
      "4\n",
      "5\n",
      "[1 2 3 4]\n",
      "[None, 1, 1, 2, 1, 0, 0, 0, 1, 0, 0, 0, 0, 0, 0, 0, 0, 0, 0, 0, 0, 0, 0, 0, 0]\n",
      "extract_tree_stats_helper 1\n",
      "1\n",
      "extract_tree_stats_helper 4\n",
      "4\n",
      "extract_tree_stats_helper 6\n",
      "6\n",
      "extract_tree_stats_helper 2\n",
      "2\n",
      "extract_tree_stats_helper 3\n",
      "3\n",
      "extract_tree_stats_helper 5\n",
      "5\n",
      "[('forward', 1)]\n",
      "[('forward', 1), ('forward', 0)]\n",
      "[('forward', 1), ('forward5', 0)]\n",
      "[('forward', 1), ('rotate_left', 0)]\n",
      "[('forward', 1), ('rotate_right', 0)]\n",
      "[('forward5', 1)]\n",
      "[('forward5', 1), ('forward', 0)]\n",
      "[('forward5', 1), ('forward5', 0)]\n",
      "[('forward5', 1), ('rotate_left', 0)]\n",
      "[('forward5', 1), ('rotate_right', 0)]\n",
      "[('rotate_left', 2)]\n",
      "[('rotate_left', 2), ('forward', 0)]\n",
      "[('rotate_left', 2), ('forward5', 0)]\n",
      "[('rotate_left', 2), ('rotate_left', 0)]\n",
      "[('rotate_left', 2), ('rotate_right', 1)]\n",
      "[('rotate_left', 2), ('rotate_right', 1), ('forward', 0)]\n",
      "[('rotate_left', 2), ('rotate_right', 1), ('forward5', 0)]\n",
      "[('rotate_left', 2), ('rotate_right', 1), ('rotate_left', 0)]\n",
      "[('rotate_left', 2), ('rotate_right', 1), ('rotate_right', 0)]\n",
      "[('rotate_right', 1)]\n",
      "[('rotate_right', 1), ('forward', 0)]\n",
      "[('rotate_right', 1), ('forward5', 0)]\n",
      "[('rotate_right', 1), ('rotate_left', 0)]\n",
      "[('rotate_right', 1), ('rotate_right', 0)]\n"
     ]
    }
   ],
   "source": [
    "total_n, children, o_labels, o_lookup, n, terminalactionnode, v, a_labels = policy\n",
    "o_lookup_dict = defaultdict(list)\n",
    "np.set_printoptions(threshold=sys.maxsize)\n",
    "for a, b, c in o_lookup:\n",
    "    o_lookup_dict[a].append(c)\n",
    "\n",
    "# One indexing julia\n",
    "o_labels = [None, None] + o_labels\n",
    "a_labels = [None] + a_labels\n",
    "children = [None] + children\n",
    "\n",
    "n = [None]+list(n)\n",
    "\n",
    "print(n)\n",
    "    \n",
    "# Recursively descend tree to extract statistics\n",
    "def extract_tree_stats_helper(observation_index, partial_path):\n",
    "    print(\"extract_tree_stats_helper\", observation_index)\n",
    "    paths = []\n",
    "    print(observation_index)\n",
    "    child_observation = o_labels[observation_index]\n",
    "    for action_index in children[observation_index]:\n",
    "        new_partial_path = copy.deepcopy(partial_path)\n",
    "        new_partial_path.append((a_labels[action_index], n[action_index], child_observation))\n",
    "        paths.append(new_partial_path)\n",
    "        child_observation_index = o_lookup_dict[action_index]\n",
    "        if(len(child_observation_index)>0):\n",
    "            paths += extract_tree_stats_helper(child_observation_index[0], new_partial_path)\n",
    "    return paths\n",
    "\n",
    "def extract_tree_stats(policy):\n",
    "    # Get the root observation node\n",
    "    root_observation_index = 1\n",
    "    paths = extract_tree_stats_helper(root_observation_index, [])\n",
    "    return paths\n",
    "\n",
    "paths = extract_tree_stats(policy)\n",
    "\n",
    "\n",
    "   "
   ]
  },
  {
   "cell_type": "code",
   "execution_count": null,
   "id": "imperial-sleeve",
   "metadata": {},
   "outputs": [],
   "source": []
  },
  {
   "cell_type": "code",
   "execution_count": null,
   "id": "middle-instrument",
   "metadata": {},
   "outputs": [],
   "source": []
  }
 ],
 "metadata": {
  "kernelspec": {
   "display_name": "Python 3",
   "language": "python",
   "name": "python3"
  },
  "language_info": {
   "codemirror_mode": {
    "name": "ipython",
    "version": 3
   },
   "file_extension": ".py",
   "mimetype": "text/x-python",
   "name": "python",
   "nbconvert_exporter": "python",
   "pygments_lexer": "ipython3",
   "version": "3.8.8"
  }
 },
 "nbformat": 4,
 "nbformat_minor": 5
}
