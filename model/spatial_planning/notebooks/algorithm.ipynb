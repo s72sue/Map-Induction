{
 "cells": [
  {
   "cell_type": "code",
   "execution_count": 1,
   "metadata": {},
   "outputs": [],
   "source": [
    "\n",
    "%load_ext autoreload\n",
    "%autoreload 2"
   ]
  },
  {
   "cell_type": "code",
   "execution_count": 2,
   "metadata": {},
   "outputs": [],
   "source": [
    "import numpy as np\n",
    "import pandas as pd\n",
    "import matplotlib.pyplot as plt\n",
    "from src.utils import *\n",
    "from src.map_grid import *\n",
    "from src.programs import *\n",
    "from src.matcher import *\n",
    "from src.proposal import *\n",
    "from src.inference import *"
   ]
  },
  {
   "cell_type": "code",
   "execution_count": 3,
   "metadata": {},
   "outputs": [],
   "source": [
    "# Find the winner map that will be used for planning\n",
    "def show_winner(belief, maps, submaps):\n",
    "    print(\"normalized belief: \", belief)\n",
    "    idx = np.argmax(belief)  # returns smallest idx when equal\n",
    "    if idx == len(submaps):\n",
    "        print(\"Winning proposal = Winning hypothesis\")\n",
    "        visualize(maps[idx]).show()\n",
    "    else:     \n",
    "        print(\"Winning proposal\")\n",
    "        visualize(submaps[idx]).show()\n",
    "        print(\"Winning hypothesis\")\n",
    "        visualize(maps[idx]).show()\n",
    "\n",
    "\n",
    "def winner(submaps, tophyps, map_space, obs=None):\n",
    "    if len(submaps)==0:\n",
    "        belief = [1]\n",
    "        maps = [map_space]\n",
    "        show_winner(belief, maps, submaps)\n",
    "        return belief, maps\n",
    "    belief, maps = getBelief(submaps, tophyps, map_space, obs)\n",
    "    show_winner(belief, maps, submaps)\n",
    "    return belief, maps\n",
    " \n",
    "    \n",
    "def match_new(map_space, submapLib, hypLib):\n",
    "    prop_dict = gen_proposals(map_space=map_space, min_dim=(3,3))\n",
    "    print(\"Total number of proposals: \", count_prop(prop_dict))\n",
    "    submapLib, hypLib, submaps, tophyps = valid_match(prop_dict, map_space, submapLib, hypLib)\n",
    "    print(\"Total number of matches: \", len(submaps))\n",
    "    print(\"Total number of submaps in library: \", count_submaps(submapLib))\n",
    "    return submapLib, hypLib, submaps, tophyps"
   ]
  },
  {
   "cell_type": "code",
   "execution_count": 4,
   "metadata": {
    "scrolled": false
   },
   "outputs": [
    {
     "name": "stdout",
     "output_type": "stream",
     "text": [
      "\n",
      "OBSERVATION 0\n"
     ]
    },
    {
     "ename": "OSError",
     "evalue": "stim/sample_obs/sample_obs1.txt not found.",
     "output_type": "error",
     "traceback": [
      "\u001b[0;31m---------------------------------------------------------------------------\u001b[0m",
      "\u001b[0;31mOSError\u001b[0m                                   Traceback (most recent call last)",
      "\u001b[0;32m<ipython-input-4-cc3c9f23481f>\u001b[0m in \u001b[0;36m<module>\u001b[0;34m\u001b[0m\n\u001b[1;32m     26\u001b[0m     \u001b[0mi\u001b[0m\u001b[0;34m+=\u001b[0m\u001b[0;36m1\u001b[0m\u001b[0;34m\u001b[0m\u001b[0;34m\u001b[0m\u001b[0m\n\u001b[1;32m     27\u001b[0m \u001b[0;34m\u001b[0m\u001b[0m\n\u001b[0;32m---> 28\u001b[0;31m     \u001b[0mmap_space\u001b[0m \u001b[0;34m=\u001b[0m \u001b[0mreadMap\u001b[0m\u001b[0;34m(\u001b[0m\u001b[0mobs\u001b[0m\u001b[0;34m)\u001b[0m\u001b[0;34m\u001b[0m\u001b[0;34m\u001b[0m\u001b[0m\n\u001b[0m\u001b[1;32m     29\u001b[0m     \u001b[0mvisualize\u001b[0m\u001b[0;34m(\u001b[0m\u001b[0mmap_space\u001b[0m\u001b[0;34m)\u001b[0m\u001b[0;34m.\u001b[0m\u001b[0mshow\u001b[0m\u001b[0;34m(\u001b[0m\u001b[0;34m)\u001b[0m\u001b[0;34m\u001b[0m\u001b[0;34m\u001b[0m\u001b[0m\n\u001b[1;32m     30\u001b[0m \u001b[0;34m\u001b[0m\u001b[0m\n",
      "\u001b[0;32m~/spatial_planning/src/utils.py\u001b[0m in \u001b[0;36mreadMap\u001b[0;34m(file_name)\u001b[0m\n\u001b[1;32m     18\u001b[0m \u001b[0;34m\u001b[0m\u001b[0m\n\u001b[1;32m     19\u001b[0m \u001b[0;32mdef\u001b[0m \u001b[0mreadMap\u001b[0m\u001b[0;34m(\u001b[0m\u001b[0mfile_name\u001b[0m\u001b[0;34m)\u001b[0m\u001b[0;34m:\u001b[0m\u001b[0;34m\u001b[0m\u001b[0;34m\u001b[0m\u001b[0m\n\u001b[0;32m---> 20\u001b[0;31m     return np.genfromtxt(file_name,\n\u001b[0m\u001b[1;32m     21\u001b[0m                          \u001b[0mdtype\u001b[0m\u001b[0;34m=\u001b[0m\u001b[0;34m'int32'\u001b[0m\u001b[0;34m,\u001b[0m\u001b[0;34m\u001b[0m\u001b[0;34m\u001b[0m\u001b[0m\n\u001b[1;32m     22\u001b[0m                          \u001b[0mskip_header\u001b[0m\u001b[0;34m=\u001b[0m\u001b[0;36m2\u001b[0m\u001b[0;34m,\u001b[0m\u001b[0;34m\u001b[0m\u001b[0;34m\u001b[0m\u001b[0m\n",
      "\u001b[0;32m/opt/anaconda3/lib/python3.8/site-packages/numpy/lib/npyio.py\u001b[0m in \u001b[0;36mgenfromtxt\u001b[0;34m(fname, dtype, comments, delimiter, skip_header, skip_footer, converters, missing_values, filling_values, usecols, names, excludelist, deletechars, replace_space, autostrip, case_sensitive, defaultfmt, unpack, usemask, loose, invalid_raise, max_rows, encoding)\u001b[0m\n\u001b[1;32m   1747\u001b[0m             \u001b[0mfname\u001b[0m \u001b[0;34m=\u001b[0m \u001b[0mos_fspath\u001b[0m\u001b[0;34m(\u001b[0m\u001b[0mfname\u001b[0m\u001b[0;34m)\u001b[0m\u001b[0;34m\u001b[0m\u001b[0;34m\u001b[0m\u001b[0m\n\u001b[1;32m   1748\u001b[0m         \u001b[0;32mif\u001b[0m \u001b[0misinstance\u001b[0m\u001b[0;34m(\u001b[0m\u001b[0mfname\u001b[0m\u001b[0;34m,\u001b[0m \u001b[0mstr\u001b[0m\u001b[0;34m)\u001b[0m\u001b[0;34m:\u001b[0m\u001b[0;34m\u001b[0m\u001b[0;34m\u001b[0m\u001b[0m\n\u001b[0;32m-> 1749\u001b[0;31m             \u001b[0mfid\u001b[0m \u001b[0;34m=\u001b[0m \u001b[0mnp\u001b[0m\u001b[0;34m.\u001b[0m\u001b[0mlib\u001b[0m\u001b[0;34m.\u001b[0m\u001b[0m_datasource\u001b[0m\u001b[0;34m.\u001b[0m\u001b[0mopen\u001b[0m\u001b[0;34m(\u001b[0m\u001b[0mfname\u001b[0m\u001b[0;34m,\u001b[0m \u001b[0;34m'rt'\u001b[0m\u001b[0;34m,\u001b[0m \u001b[0mencoding\u001b[0m\u001b[0;34m=\u001b[0m\u001b[0mencoding\u001b[0m\u001b[0;34m)\u001b[0m\u001b[0;34m\u001b[0m\u001b[0;34m\u001b[0m\u001b[0m\n\u001b[0m\u001b[1;32m   1750\u001b[0m             \u001b[0mfid_ctx\u001b[0m \u001b[0;34m=\u001b[0m \u001b[0mcontextlib\u001b[0m\u001b[0;34m.\u001b[0m\u001b[0mclosing\u001b[0m\u001b[0;34m(\u001b[0m\u001b[0mfid\u001b[0m\u001b[0;34m)\u001b[0m\u001b[0;34m\u001b[0m\u001b[0;34m\u001b[0m\u001b[0m\n\u001b[1;32m   1751\u001b[0m         \u001b[0;32melse\u001b[0m\u001b[0;34m:\u001b[0m\u001b[0;34m\u001b[0m\u001b[0;34m\u001b[0m\u001b[0m\n",
      "\u001b[0;32m/opt/anaconda3/lib/python3.8/site-packages/numpy/lib/_datasource.py\u001b[0m in \u001b[0;36mopen\u001b[0;34m(path, mode, destpath, encoding, newline)\u001b[0m\n\u001b[1;32m    193\u001b[0m \u001b[0;34m\u001b[0m\u001b[0m\n\u001b[1;32m    194\u001b[0m     \u001b[0mds\u001b[0m \u001b[0;34m=\u001b[0m \u001b[0mDataSource\u001b[0m\u001b[0;34m(\u001b[0m\u001b[0mdestpath\u001b[0m\u001b[0;34m)\u001b[0m\u001b[0;34m\u001b[0m\u001b[0;34m\u001b[0m\u001b[0m\n\u001b[0;32m--> 195\u001b[0;31m     \u001b[0;32mreturn\u001b[0m \u001b[0mds\u001b[0m\u001b[0;34m.\u001b[0m\u001b[0mopen\u001b[0m\u001b[0;34m(\u001b[0m\u001b[0mpath\u001b[0m\u001b[0;34m,\u001b[0m \u001b[0mmode\u001b[0m\u001b[0;34m,\u001b[0m \u001b[0mencoding\u001b[0m\u001b[0;34m=\u001b[0m\u001b[0mencoding\u001b[0m\u001b[0;34m,\u001b[0m \u001b[0mnewline\u001b[0m\u001b[0;34m=\u001b[0m\u001b[0mnewline\u001b[0m\u001b[0;34m)\u001b[0m\u001b[0;34m\u001b[0m\u001b[0;34m\u001b[0m\u001b[0m\n\u001b[0m\u001b[1;32m    196\u001b[0m \u001b[0;34m\u001b[0m\u001b[0m\n\u001b[1;32m    197\u001b[0m \u001b[0;34m\u001b[0m\u001b[0m\n",
      "\u001b[0;32m/opt/anaconda3/lib/python3.8/site-packages/numpy/lib/_datasource.py\u001b[0m in \u001b[0;36mopen\u001b[0;34m(self, path, mode, encoding, newline)\u001b[0m\n\u001b[1;32m    533\u001b[0m                                       encoding=encoding, newline=newline)\n\u001b[1;32m    534\u001b[0m         \u001b[0;32melse\u001b[0m\u001b[0;34m:\u001b[0m\u001b[0;34m\u001b[0m\u001b[0;34m\u001b[0m\u001b[0m\n\u001b[0;32m--> 535\u001b[0;31m             \u001b[0;32mraise\u001b[0m \u001b[0mIOError\u001b[0m\u001b[0;34m(\u001b[0m\u001b[0;34m\"%s not found.\"\u001b[0m \u001b[0;34m%\u001b[0m \u001b[0mpath\u001b[0m\u001b[0;34m)\u001b[0m\u001b[0;34m\u001b[0m\u001b[0;34m\u001b[0m\u001b[0m\n\u001b[0m\u001b[1;32m    536\u001b[0m \u001b[0;34m\u001b[0m\u001b[0m\n\u001b[1;32m    537\u001b[0m \u001b[0;34m\u001b[0m\u001b[0m\n",
      "\u001b[0;31mOSError\u001b[0m: stim/sample_obs/sample_obs1.txt not found."
     ]
    }
   ],
   "source": [
    "# long term memory\n",
    "submapLib = dict() \n",
    "hypLib = dict()\n",
    "\n",
    "# short term memory (current trial)\n",
    "# submaps = list() \n",
    "# tophyps = list()\n",
    "\n",
    "#list of strings with path to observations\n",
    "#obsvatns = ['stim/sample_obs/sample_obs1.txt']\n",
    "obsvatns = ['stim/sample_obs/sample_obs1.txt','stim/sample_obs/sample_obs2.txt', 'stim/sample_obs/sample_obs3.txt',\n",
    "            'stim/sample_obs/sample_obs4.txt',\n",
    "            'stim/sample_obs/sampleR_obs1.txt','stim/sample_obs/sampleR_obs2.txt', 'stim/sample_obs/sampleR_obs3.txt',\n",
    "            'stim/chain_obs/chain_obs1.txt', 'stim/chain_obs/chain_obs2.txt', 'stim/chain_obs/chain_obs3.txt', \n",
    "            'stim/chain_obs/chainR_obs1.txt', 'stim/chain_obs/chainR_obs2.txt', 'stim/chain_obs/chainR_obs3.txt',\n",
    "            \n",
    "            'stim/four_room_obs/four_room_obs1.txt', 'stim/four_room_obs/four_room_obs2.txt', \n",
    "            'stim/four_room_obs/four_room_obs3.txt', 'stim/four_room_obs/four_room_obs4.txt',\n",
    "            \n",
    "            'stim/fourRoomCorr_obs/fourRoomCorr_obs1.txt', 'stim/fourRoomCorr_obs/fourRoomCorr_obs2.txt', \n",
    "            'stim/fourRoomCorr_obs/fourRoomCorrR_obs1.txt', 'stim/fourRoomCorr_obs/fourRoomCorrR_obs2.txt']\n",
    "\n",
    "i=0\n",
    "for obs in obsvatns:\n",
    "    print(\"\\nOBSERVATION\", i)\n",
    "    i+=1\n",
    "    \n",
    "    map_space = readMap(obs) \n",
    "    visualize(map_space).show()\n",
    "    \n",
    "    if not submapLib:\n",
    "        submapLib, hypLib, submaps, tophyps = match_new(map_space, submapLib, hypLib)\n",
    "    else:\n",
    "        submaps, tophyps = match_existing(submapLib, hypLib, map_space)\n",
    "        if len(submaps) > 0:\n",
    "            print(\"Match existing\")\n",
    "        else:\n",
    "            submapLib, hypLib, submaps, tophyps = match_new(map_space, submapLib, hypLib)\n",
    "    belief, maps = winner(submaps, tophyps, map_space, map_space)"
   ]
  },
  {
   "cell_type": "code",
   "execution_count": null,
   "metadata": {},
   "outputs": [],
   "source": []
  },
  {
   "cell_type": "code",
   "execution_count": null,
   "metadata": {},
   "outputs": [],
   "source": []
  },
  {
   "cell_type": "code",
   "execution_count": null,
   "metadata": {},
   "outputs": [],
   "source": []
  }
 ],
 "metadata": {
  "kernelspec": {
   "display_name": "Python 3",
   "language": "python",
   "name": "python3"
  },
  "language_info": {
   "codemirror_mode": {
    "name": "ipython",
    "version": 3
   },
   "file_extension": ".py",
   "mimetype": "text/x-python",
   "name": "python",
   "nbconvert_exporter": "python",
   "pygments_lexer": "ipython3",
   "version": "3.8.8"
  },
  "toc": {
   "base_numbering": 1,
   "nav_menu": {},
   "number_sections": true,
   "sideBar": true,
   "skip_h1_title": false,
   "title_cell": "Table of Contents",
   "title_sidebar": "Contents",
   "toc_cell": false,
   "toc_position": {},
   "toc_section_display": true,
   "toc_window_display": false
  }
 },
 "nbformat": 4,
 "nbformat_minor": 4
}
